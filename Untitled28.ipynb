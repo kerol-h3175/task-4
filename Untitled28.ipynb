{
 "cells": [
  {
   "cell_type": "code",
   "execution_count": 16,
   "id": "32198c0e-7aee-4814-894b-a44f800035bb",
   "metadata": {},
   "outputs": [
    {
     "name": "stdout",
     "output_type": "stream",
     "text": [
      "Student Averages:\n",
      "Ahmed: Average = 90.0\n",
      "Sara: Average = 80.0\n",
      "Youssef: Average = 75.0\n"
     ]
    }
   ],
   "source": [
    "\n",
    "grades = {\n",
    "    \"Ahmed\": [85, 90, 95],\n",
    "    \"Sara\": [90, 60, 90],\n",
    "    \"Youssef\": [70, 75, 80]\n",
    "}\n",
    "\n",
    "print(\"Student Averages:\")\n",
    "for student, scores in grades.items():\n",
    "    average = sum(scores) / len(scores)\n",
    "    print(f\"{student}: Average = {average:}\")\n"
   ]
  },
  {
   "cell_type": "code",
   "execution_count": null,
   "id": "b13b0b27-1837-498a-a0e0-909dd5445cfd",
   "metadata": {},
   "outputs": [
    {
     "name": "stdout",
     "output_type": "stream",
     "text": [
      "All contacts:\n",
      "Ahmed\n",
      "Fatima\n",
      "Youssef\n"
     ]
    }
   ],
   "source": [
    "\n",
    "contacts = {\n",
    "    \"Ahmed\": \"01012345678\",\n",
    "    \"Fatima\": \"01198765432\",\n",
    "    \"Youssef\": \"01255566778\"\n",
    "}\n",
    "\n",
    "print(\"All contacts:\")\n",
    "for name in contacts:\n",
    "    print(name)\n",
    "\n",
    "search_name = input(\"Enter a name to search for their phone number: \")\n",
    "if search_name in contacts:\n",
    "    print(f\"The phone number for {search_name} is: {contacts[search_name]}\")\n",
    "else:\n",
    "    print(f\"Sorry, {search_name} was not found in the contacts.\")"
   ]
  },
  {
   "cell_type": "code",
   "execution_count": null,
   "id": "9ddf0ceb-60bf-43a4-a54d-fe293281c116",
   "metadata": {},
   "outputs": [],
   "source": [
    "\n",
    "\n",
    "\n",
    "\n",
    "\n"
   ]
  }
 ],
 "metadata": {
  "kernelspec": {
   "display_name": "Python [conda env:base] *",
   "language": "python",
   "name": "conda-base-py"
  },
  "language_info": {
   "codemirror_mode": {
    "name": "ipython",
    "version": 3
   },
   "file_extension": ".py",
   "mimetype": "text/x-python",
   "name": "python",
   "nbconvert_exporter": "python",
   "pygments_lexer": "ipython3",
   "version": "3.13.5"
  }
 },
 "nbformat": 4,
 "nbformat_minor": 5
}
